{
 "cells": [
  {
   "cell_type": "code",
   "execution_count": 1,
   "metadata": {},
   "outputs": [],
   "source": [
    "from numpy import array, linspace\n",
    "from math import sin, cos, pi,tan \n",
    "from pylab import plot, xlabel, ylabel, show\n",
    "import matplotlib.pyplot as plt\n",
    "from scipy.integrate import odeint\n"
   ]
  },
  {
   "cell_type": "code",
   "execution_count": 2,
   "metadata": {},
   "outputs": [],
   "source": [
    "#parámetros\n",
    "\n",
    "g = 9.81         \n",
    "error = 1e-10  \n"
   ]
  },
  {
   "cell_type": "code",
   "execution_count": 27,
   "metadata": {},
   "outputs": [
    {
     "name": "stdout",
     "output_type": "stream",
     "text": [
      "(1000, 2)\n",
      "22026.469761486278\n"
     ]
    },
    {
     "data": {
      "text/plain": [
       "[<matplotlib.lines.Line2D at 0x7f86c90e0dd8>]"
      ]
     },
     "execution_count": 27,
     "metadata": {},
     "output_type": "execute_result"
    },
    {
     "data": {
      "image/png": "[encoded data removed]",
      "text/plain": [
       "<matplotlib.figure.Figure at 0x7f86c91c1be0>"
      ]
     },
     "metadata": {
      "needs_background": "light"
     },
     "output_type": "display_data"
    }
   ],
   "source": [
    "\n",
    "def Mov_Parab (init, t):\n",
    "\n",
    "    y= init[0]\n",
    "    dy = init[1] \n",
    "    ddy = -g\n",
    "   \n",
    "    return array([y,dy],float)\n",
    "    \n",
    "n_steps = 1000  #Número de pasos\n",
    "t_start = 0. #Tiempo Inicial\n",
    "t_final = 10. #Tiempo Final\n",
    "t = linspace(t_start,t_final,n_steps)  \n",
    "\n",
    "v1=1\n",
    "v2=1000\n",
    "\n",
    "init1 = array([0,v1],float)\n",
    "init2 = array([0,v2],float)\n",
    "\n",
    "a1,outodeint = odeint(Mov_Parab, init1, t, full_output=1)\n",
    "h1 = a1[(n_steps-1)]\n",
    "a2,outodeint = odeint(Mov_Parab, init2, t, full_output=1)\n",
    "h2 = a2[(n_steps-1)]\n",
    "print(a1.shape)\n",
    "print(a1[999,1])\n",
    "plot (a2[:,1])\n",
    "plot (a1[:,1])"
   ]
  },
  {
   "cell_type": "code",
   "execution_count": null,
   "metadata": {},
   "outputs": [],
   "source": [
    "v1=1\n",
    "v2=1000\n",
    "\n",
    "h1 = a1[(n_steps-1)]\n",
    "h2 = a2[(n_steps-1)]\n",
    "print(h1)\n",
    "while abs(h2-h1)>error:\n",
    "    vp = (v1+v2)/2\n",
    "    hp = h2\n",
    "    if h1*hp>0:\n",
    "        v1 = vp\n",
    "        h1 = hp\n",
    "    else:\n",
    "        v2 = vp\n",
    "        h2 = hp\n",
    "\n",
    "v = (v1+v2)/2\n",
    "print(\"The required initial velocity is\",v,\"m/s\")"
   ]
  },
  {
   "cell_type": "code",
   "execution_count": null,
   "metadata": {},
   "outputs": [],
   "source": []
  }
 ],
 "metadata": {
  "kernelspec": {
   "display_name": "Python 3",
   "language": "python",
   "name": "python3"
  },
  "language_info": {
   "codemirror_mode": {
    "name": "ipython",
    "version": 3
   },
   "file_extension": ".py",
   "mimetype": "text/x-python",
   "name": "python",
   "nbconvert_exporter": "python",
   "pygments_lexer": "ipython3",
   "version": "3.6.8"
  }
 },
 "nbformat": 4,
 "nbformat_minor": 2
}
